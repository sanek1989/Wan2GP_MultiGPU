{
 "cells": [
  {
   "cell_type": "markdown",
   "id": "5d957fbf",
   "metadata": {},
   "source": []
  },
  {
   "cell_type": "code",
   "execution_count": 1,
   "id": "f3bb91bf",
   "metadata": {},
   "outputs": [
    {
     "name": "stdout",
     "output_type": "stream",
     "text": [
      "DataParallel sanity check failed: No module named 'multi_gpu_utils'\n"
     ]
    }
   ],
   "source": [
    "# Minimal DataParallel sanity check\n",
    "try:\n",
    "    import torch\n",
    "    from torch import nn\n",
    "    from multi_gpu_utils import create_multi_gpu_manager\n",
    "\n",
    "    mgr = create_multi_gpu_manager()\n",
    "    device = mgr.get_primary_device() if hasattr(mgr, 'get_primary_device') else 'cpu'\n",
    "    dev = torch.device(device) if (torch.cuda.is_available() and 'cuda' in device) else torch.device('cpu')\n",
    "\n",
    "    model = nn.Linear(10, 10)\n",
    "    wrapped = mgr.wrap_model_with_dataparallel(model)\n",
    "\n",
    "    x = torch.randn(4, 10).to(dev)\n",
    "    with torch.no_grad():\n",
    "        out = wrapped(x)\n",
    "    print('Output shape:', out.shape)\n",
    "except Exception as e:\n",
    "    print('DataParallel sanity check failed:', e)\n"
   ]
  },
  {
   "cell_type": "code",
   "execution_count": null,
   "id": "79fea991",
   "metadata": {},
   "outputs": [],
   "source": [
    "# Quick import & multi-GPU smoke test\n",
    "try:\n",
    "    from multi_gpu_utils import test_multi_gpu_setup, create_multi_gpu_manager\n",
    "    mgr = test_multi_gpu_setup()\n",
    "    print('Manager primary device:', getattr(mgr, 'primary_device', None))\n",
    "except Exception as e:\n",
    "    print('multi_gpu_utils test failed:', e)\n"
   ]
  },
  {
   "cell_type": "code",
   "execution_count": null,
   "id": "3f7dd6c6",
   "metadata": {},
   "outputs": [],
   "source": [
    "# Optional: install project dependencies on Kaggle\n",
    "# Run this cell only if required (can be slow). On Kaggle this typically installs missing packages.\n",
    "# Example (uncomment to run):\n",
    "# !pip install -r /kaggle/working/Wan2GP_MultiGPU/requirements.txt -q\n",
    "\n",
    "# If you prefer, install specific packages individually, e.g.:\n",
    "# !pip install mmgp safetensors transformers -q\n"
   ]
  },
  {
   "cell_type": "code",
   "execution_count": null,
   "id": "3cb37133",
   "metadata": {},
   "outputs": [],
   "source": [
    "# Python / GPU environment check\n",
    "import sys, os\n",
    "print('Python:', sys.version)\n",
    "try:\n",
    "    import torch\n",
    "    print('torch:', getattr(torch, '__version__', '<unknown>'))\n",
    "    cuda_avail = torch.cuda.is_available()\n",
    "    print('CUDA available:', cuda_avail)\n",
    "    if cuda_avail:\n",
    "        print('CUDA device count:', torch.cuda.device_count())\n",
    "        for i in range(torch.cuda.device_count()):\n",
    "            try:\n",
    "                print(i, torch.cuda.get_device_name(i))\n",
    "            except Exception as e:\n",
    "                print('Could not get name for device', i, e)\n",
    "except Exception as e:\n",
    "    print('torch import failed:', e)\n"
   ]
  },
  {
   "cell_type": "markdown",
   "id": "35585d45",
   "metadata": {},
   "source": [
    "# Цель ноутбука\n",
    "\n",
    "Этот ноутбук помогает подготовить и проверить запуск Wan2GP_MultiGPU на Kaggle с 2×T4.\n",
    "\n",
    "Что делает ноутбук:\n",
    "- проверяет Python / PyTorch / доступные GPU;\n",
    "- даёт (опциональную) команду установки зависимостей для Kaggle;\n",
    "- запускает быстрые sanity-checks для multi-GPU (импорт `multi_gpu_utils`, тестовая обертка DataParallel);\n",
    "\n",
    "Инструкции:\n",
    "1) Если запускаете на Kaggle — выберите runtime с GPU и убедитесь, что доступно 2 GPU.\n",
    "2) При необходимости выполните ячейку установки зависимостей.\n",
    "3) Выполните ячейки последовательно и смотрите вывод для диагностики."
   ]
  }
 ],
 "metadata": {
  "kernelspec": {
   "display_name": "Python 3 (ipykernel)",
   "language": "python",
   "name": "python3"
  },
  "language_info": {
   "codemirror_mode": {
    "name": "ipython",
    "version": 3
   },
   "file_extension": ".py",
   "mimetype": "text/x-python",
   "name": "python",
   "nbconvert_exporter": "python",
   "pygments_lexer": "ipython3",
   "version": "3.11.13"
  }
 },
 "nbformat": 4,
 "nbformat_minor": 5
}
