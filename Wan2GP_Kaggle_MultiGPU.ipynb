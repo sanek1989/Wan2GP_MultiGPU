{
 "cells": [
  {
   "cell_type": "code",
   "execution_count": null,
   "id": "4f1d97c1",
   "metadata": {},
   "outputs": [],
   "source": [
    "# Клонирование репозитория Wan2GP_MultiGPU\n",
    "%cd /kaggle/working/\n",
    "!git clone https://github.com/sanek1989/Wan2GP_MultiGPU.git\n",
    "%cd Wan2GP_MultiGPU\n"
   ]
  },
  {
   "cell_type": "code",
   "execution_count": null,
   "id": "1e9f2ffd",
   "metadata": {},
   "outputs": [],
   "source": [
    "# Установка PyTorch и необходимых библиотек для Kaggle\n",
    "!pip install --upgrade pip\n",
    "!pip install torch==2.7.0 torchvision torchaudio --index-url https://download.pytorch.org/whl/test/cu128\n",
    "!pip install numpy pillow opencv-python tqdm requests einops soundfile mutagen librosa decord packaging rembg ffmpeg-python pynvml\n"
   ]
  },
  {
   "cell_type": "code",
   "execution_count": null,
   "id": "1f4f8303",
   "metadata": {},
   "outputs": [],
   "source": [
    "# Установка зависимостей проекта\n",
    "!git pull\n",
    "!pip install -r requirements.txt\n"
   ]
  },
  {
   "cell_type": "code",
   "execution_count": null,
   "id": "2d9fbf16",
   "metadata": {},
   "outputs": [],
   "source": [
    "# Запуск основного скрипта проекта\n",
    "!python wgp.py --multi-gpu --gpu-devices \"0,1\" --share\n"
   ]
  },
  {
   "cell_type": "markdown",
   "id": "5d957fbf",
   "metadata": {},
   "source": []
  }
 ],
 "metadata": {
  "kernelspec": {
   "display_name": "Python 3 (ipykernel)",
   "language": "python",
   "name": "python3"
  },
  "language_info": {
   "codemirror_mode": {
    "name": "ipython",
    "version": 3
   },
   "file_extension": ".py",
   "mimetype": "text/x-python",
   "name": "python",
   "nbconvert_exporter": "python",
   "pygments_lexer": "ipython3",
   "version": "3.11.13"
  }
 },
 "nbformat": 4,
 "nbformat_minor": 5
}
